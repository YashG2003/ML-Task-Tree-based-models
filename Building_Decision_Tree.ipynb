  {
 "cells": [
  {
   "cell_type": "markdown",
   "metadata": {},
   "source": [
    "## Decision Trees"
   ]
  },
  {
   "cell_type": "markdown",
   "metadata": {},
   "source": [
    "Your cousin has made millions of dollars speculating on real estate. He's offered to become business partners with you because of your interest in data science. He'll supply the money, and you'll supply models that predict how much various houses are worth.\n",
    "\n",
    "You ask your cousin how he's predicted real estate values in the past. and he says it is just intuition. But more questioning reveals that he's identified price patterns from houses he has seen in the past, and he uses those patterns to make predictions for new houses he is considering.\n",
    "\n",
    "Below is one of the patterns he has used"
   ]
  },
  {
   "cell_type": "markdown",
   "metadata": {},
   "source": [
    "![SS1](./assets/SS1.png)"
   ]
  },
  {
   "cell_type": "markdown",
   "metadata": {},
   "source": [
    "Essentially what he has used is something called a Decision Tree. You can have more branches to the trees and make a very complex looking one too.\n",
    "\n",
    "After some more questioning you found that this is what essentially your cousin does"
   ]
  },
  {
   "cell_type": "markdown",
   "metadata": {},
   "source": [
    "https://github.com/analytics-club-iitm/weekly-sessions/raw/c607250bad166681ffeec75b24087eb5eca18cf8/13/assets/SS2.png"
   ]
  },
  {
   "cell_type": "markdown",
   "metadata": {},
   "source": [
    "In general a decision tree asks a question and then classifies the data based on that question.\n",
    "\n",
    "It is a supervised learning algorithm that is the base for some of the more accurate machine learning algorithms like Bagging and Boosting that currently exist.\n",
    "\n",
    "So now that you know what a decision tree is let's build a decision tree from scratch in Python!!"
   ]
  },
   {
   "cell_type": "code",
   "execution_count": 30,
   "metadata": {},
   "outputs": [],
   "source": [
    "import numpy as np\n",
    "import pandas as pd"
   ]
  },
  {
   "cell_type": "markdown",
   "metadata": {},
   "source": [
    "We will be using the following data which has 4 columns out of which the last one is the target column"
   ]
  },
  {
   "cell_type": "code",
   "execution_count": 35,
   "metadata": {},
   "outputs": [
    {
     "data": {
      "text/html": [
       "<div>\n",
       "<style scoped>\n",
       "    .dataframe tbody tr th:only-of-type {\n",
       "        vertical-align: middle;\n",
       "    }\n",
       "\n",
       "    .dataframe tbody tr th {\n",
       "        vertical-align: top;\n",
       "    }\n",
       "\n",
       "    .dataframe thead th {\n",
       "        text-align: right;\n",
       "    }\n",
       "</style>\n",
       "<table border=\"1\" class=\"dataframe\">\n",
       "  <thead>\n",
       "    <tr style=\"text-align: right;\">\n",
       "      <th></th>\n",
       "      <th>Blocked Arteries</th>\n",
       "      <th>Chest_Pain</th>\n",
       "      <th>Good Blood Circulation</th>\n",
       "      <th>Heart Disease</th>\n",
       "    </tr>\n",
       "  </thead>\n",
       "  <tbody>\n",
       "    <tr>\n",
       "      <th>0</th>\n",
       "      <td>1</td>\n",
       "      <td>0</td>\n",
       "      <td>1</td>\n",
       "      <td>0</td>\n",
       "    </tr>\n",
       "    <tr>\n",
       "      <th>1</th>\n",
       "      <td>1</td>\n",
       "      <td>1</td>\n",
       "      <td>1</td>\n",
       "      <td>0</td>\n",
       "    </tr>\n",
       "    <tr>\n",
       "      <th>2</th>\n",
       "      <td>0</td>\n",
       "      <td>1</td>\n",
       "      <td>1</td>\n",
       "      <td>1</td>\n",
       "    </tr>\n",
       "    <tr>\n",
       "      <th>3</th>\n",
       "      <td>0</td>\n",
       "      <td>1</td>\n",
       "      <td>1</td>\n",
       "      <td>1</td>\n",
       "    </tr>\n",
       "    <tr>\n",
       "      <th>4</th>\n",
       "      <td>0</td>\n",
       "      <td>0</td>\n",
       "      <td>1</td>\n",
       "      <td>1</td>\n",
       "    </tr>\n",
       "  </tbody>\n",
       "</table>\n",
       "</div>"
      ],
      "text/plain": [
       "   Blocked Arteries  Chest_Pain  Good Blood Circulation  Heart Disease\n",
       "0                 1           0                       1              0\n",
       "1                 1           1                       1              0\n",
       "2                 0           1                       1              1\n",
       "3                 0           1                       1              1\n",
       "4                 0           0                       1              1"
      ]
     },
     "execution_count": 35,
     "metadata": {},
     "output_type": "execute_result"
    }
   ],
   "source": [
    "data = pd.read_csv('data.csv')\n",
    "data.head()"
   ]
  },
  {
   "cell_type": "markdown",
   "metadata": {},
   "source": [
    "We will break this whole tutorial into 3 parts:\n",
    "\n",
    "1.Gini Index\n",
    "\n",
    "2.Creating splits in the Dataset\n",
    "\n",
    "3.Making Predictions "
   ]
  },
  {
   "cell_type": "markdown",
   "metadata": {},
   "source": [
    "So without any further delay, let's get started with it!!"
   ]
  },
  {
   "cell_type": "markdown",
   "metadata": {},
   "source": [
    "## Training a Decision Tree"
   ]
  },
  {
   "cell_type": "markdown",
   "metadata": {},
   "source": [
    "## Gini Index"
   ]
  },
  {
   "cell_type": "markdown",
   "metadata": {},
   "source": [
    "In the example that we used above, where your Cousin predicted the price of the house he was going to sell, he used the number of bedrooms in the house as the first parameter through which he classified the data. He did this based on his intuition, but how will a computer know which is the first parameter that will make the best split? "
   ]
  },
  {
   "cell_type": "markdown",
   "metadata": {},
   "source": [
    "To tackle this problem we have something called the Gini Index that is a kind of loss function which helps us decide the parameters to use to split the data."
   ]
  },
  {
   "cell_type": "markdown",
   "metadata": {},
   "source": [
    "Let us assume for now that the best split is made by the 'Blocked Arteries' parameter. We then Compare how it affects the target value. We check how related having a Blocked Artery or not, is to having a heart disease. We then get some kind of picture as shown below.\n",
    "\n",
    "This computation has already been done for the whole dataset. So we can see that there are 215 patients who have a heart disease when they have a blocked artery and 227 who dont. The same can be said about the right Leaf.\n",
    "\n",
    "A node is a point where the data get split into two or more subsets, a leaf does not split further and is used to represent the samples present in that split"
   ]
  },
  {
   "cell_type": "markdown",
   "metadata": {},
   "source": [
    "![SS3.png](./assets/SS3.png)"
   ]
  },
  {
   "cell_type": "markdown",
   "metadata": {},
   "source": [
    "We then need to calculate the gini index for each 'Leaf' which is denoted in Green. It is calculated as follows:\n",
    "\n",
    "Gini Index = 1 - $(probability\\:of \"yes\")^{2}$ - $(probability\\:of \"no\")^{2}$"
   ]
  },
  {
   "cell_type": "markdown",
   "metadata": {},
   "source": [
    "For the left leaf the gini index is:\n",
    "\n",
    "Gini Index = 1 - $(215/(215+227))^{2}$ - $(227/(215 + 227))^{2}$\n",
    "    \n",
    "         = 1 - 0.237 - 0.264 \n",
    "         = 0.499"
   ]
  },
  {
   "cell_type": "markdown",
   "metadata": {},
   "source": [
    "Similarly for the right leaf the gini index is:\n",
    "\n",
    "Gini Index = 0.499"
   ]
  },
  {
   "cell_type": "markdown",
   "metadata": {},
   "source": [
    "Now we need to find the overall gini index.\n",
    "\n",
    "For this we take a weighted average for the gini index of both the leaves where the weights are the number of samples in each leaf.\n",
    "\n",
    "Gini Index for Blocked Arteries = (442 * 0.499 + 558 * 0.499)/(442 + 442)\n",
    "\n",
    "                      = 0.499"
   ]
  },
  {
   "cell_type": "markdown",
   "metadata": {},
   "source": [
    "Given below is the code that represents all the above calculation. This can be used to calculate the gini index for any Feature"
   ]
  },
  {
   "cell_type": "code",
   "execution_count": 36,
   "metadata": {},
   "outputs": [],
   "source": [
    "# Calculate the Gini index for the dataset\n",
    "def gini_index(groups):\n",
    "    #getting the counts for each type of patient\n",
    "    count1 = len([entry for entry in groups if (entry[0] == 1 and entry[1]==1)])\n",
    "    count2 = len([entry for entry in groups if (entry[0] == 1 and entry[1]==0)])\n",
    "    count3 = len([entry for entry in groups if (entry[0] == 0 and entry[1]==1)])\n",
    "    count4 = len([entry for entry in groups if (entry[0] == 0 and entry[1]==0)])\n",
    "    total = count1 + count2 + count3 + count4\n",
    "    gini_leaf_1 = 1 - ((count1/(count1 + count2))**2) - ((count2/(count1 + count2))**2)\n",
    "    gini_leaf_2 = 1 - ((count3/(count3 + count4))**2) - ((count4/(count3 + count4))**2)\n",
    "    gini = ((count1 + count2)*gini_leaf_1 + (count3 + count4)*gini_leaf_2)/total\n",
    "    return gini"
   ]
  },
  {
   "cell_type": "markdown",
   "metadata": {},
   "source": [
    "To apply this function first we will need to get the data into a form which we can pass to this function"
   ]
  },
  {
   "cell_type": "code",
   "execution_count": 38,
   "metadata": {},
   "outputs": [
    {
     "name": "stdout",
     "output_type": "stream",
     "text": [
      "0.49923136930537304\n"
     ]
    }
   ],
   "source": [
    "Blocked_artery_groups = [[data.iloc[c,0],data.iloc[c,3]] for c in range(1000)] \n",
    "# iloc helps us retrieve elements from a dataframe\n",
    "print(gini_index(Blocked_artery_groups))"
   ]
  },
  {
   "cell_type": "markdown",
   "metadata": {},
   "source": [
    "As you can see the gini index we calculated above and this one is the same"
   ]
  },
  {
   "cell_type": "markdown",
   "metadata": {},
   "source": [
    "We will now calculate it for the other features too"
   ]
  },
  {
   "cell_type": "code",
   "execution_count": 39,
   "metadata": {},
   "outputs": [
    {
     "name": "stdout",
     "output_type": "stream",
     "text": [
      "0.4999016103059582\n"
     ]
    }
   ],
   "source": [
    "Chest_Pain_groups = [[data.iloc[c,1], data.iloc[c,3]] for c in range(1000)]\n",
    "print(gini_index(Chest_Pain_groups))"
   ]
  },
  {
   "cell_type": "code",
   "execution_count": 40,
   "metadata": {},
   "outputs": [
    {
     "name": "stdout",
     "output_type": "stream",
     "text": [
      "0.49926660822716157\n"
     ]
    }
   ],
   "source": [
    "Blood_Circulation_groups = [[data.iloc[c,2], data.iloc[c,3]] for c in range(1000)]\n",
    "print(gini_index(Blood_Circulation_groups))"
   ]
  },
  {
   "cell_type": "markdown",
   "metadata": {},
   "source": [
    "Now that we have done this, we can see that the 'Blocked Artery' Parameter is the one that has the least Gini Index, so we will use that as our first split. (Remember that Gini Index was something like a loss function?)"
   ]
  },
  {
   "cell_type": "markdown",
   "metadata": {},
   "source": [
    "## Creating Splits in the Data"
   ]
  },
  {
   "cell_type": "markdown",
   "metadata": {},
   "source": [
    "Now that we have decided the best parameter on which we will split the data, We need to create this split in the data."
   ]
  },
  {
   "cell_type": "code",
   "execution_count": 41,
   "metadata": {},
   "outputs": [],
   "source": [
    "Not_Blocked = data[data['Blocked Arteries'] == 0] #Patients without Blocked Arteries\n",
    "Blocked = data[data['Blocked Arteries'] == 1] # Patients with Blocked Arteries"
   ]
  },
  {
   "cell_type": "markdown",
   "metadata": {},
   "source": [
    "We then need to have a similar process to decide which will be the next feature for splitting each subset that we created. Note that now that we have split the data, it is possible that the splitting parameter will be different for each subset. The only way we will know is by calculating the gini index. So let's go ahead and do that.\n",
    "\n",
    "Let's start with the Not Blocked data."
   ]
  },
  {
   "cell_type": "code",
   "execution_count": 43,
   "metadata": {},
   "outputs": [
    {
     "name": "stdout",
     "output_type": "stream",
     "text": [
      "0.49842059183450127\n"
     ]
    }
   ],
   "source": [
    "Chest_Pain_Not_Blocked_Groups = [[Not_Blocked.iloc[c,1], Not_Blocked.iloc[c,3]] for c in range(len(Not_Blocked))]\n",
    "print(gini_index(Chest_Pain_Not_Blocked_Groups))"
   ]
  },
  {
   "cell_type": "code",
   "execution_count": 44,
   "metadata": {},
   "outputs": [
    {
     "name": "stdout",
     "output_type": "stream",
     "text": [
      "0.49760408741733025\n"
     ]
    }
   ],
   "source": [
    "Blood_Circulation_Not_Blocked_Groups = [[Not_Blocked.iloc[c,2], Not_Blocked.iloc[c,3]] for c in range(len(Not_Blocked))]\n",
    "print(gini_index(Blood_Circulation_Not_Blocked_Groups))"
   ]
  },
  {
   "cell_type": "markdown",
   "metadata": {},
   "source": [
    "We can see that the next parameter for splitting the Not_Blocked is the Blood Circulation"
   ]
  },
  {
   "cell_type": "markdown",
   "metadata": {},
   "source": [
    "Now let us do that same thing for the Blocked data."
   ]
  },
  {
   "cell_type": "code",
   "execution_count": 45,
   "metadata": {},
   "outputs": [
    {
     "name": "stdout",
     "output_type": "stream",
     "text": [
      "0.49910958102223524\n"
     ]
    }
   ],
   "source": [
    "Chest_Pain_Blocked_Groups = [[Blocked.iloc[c,1], Blocked.iloc[c,3]] for c in range(len(Blocked))]\n",
    "print(gini_index(Chest_Pain_Blocked_Groups))"
   ]
  },
  {
   "cell_type": "code",
   "execution_count": 46,
   "metadata": {},
   "outputs": [
    {
     "name": "stdout",
     "output_type": "stream",
     "text": [
      "0.49942113555246925\n"
     ]
    }
   ],
   "source": [
    "Blood_Circulation_Blocked_Groups = [[Blocked.iloc[c,2], Blocked.iloc[c,3]] for c in range(len(Blocked))]\n",
    "print(gini_index(Blood_Circulation_Blocked_Groups))"
   ]
  },
  {
   "cell_type": "markdown",
   "metadata": {},
   "source": [
    "For the Blocked data we can see that the splitting parameter is Chest Pain!!\n",
    "\n",
    "For the different subsets we have different splitting parameters for the second split!!!"
   ]
  },
  {
   "cell_type": "markdown",
   "metadata": {},
   "source": [
    "Below is what our decision tree looks like so far"
   ]
  },
  {
   "cell_type": "markdown",
   "metadata": {},
   "source": [
    "![SS4.png](./assets/SS4.png)"
   ]
  },
  {
   "cell_type": "markdown",
   "metadata": {},
   "source": [
    "To avoid Complexity let's leave it at this stage. Ideally, you could go deeper into the data by creating more splits which will lead to better results."
   ]
  },
  {
   "cell_type": "markdown",
   "metadata": {},
   "source": [
    "## Making Predictions"
   ]
  },
  {
   "cell_type": "markdown",
   "metadata": {},
   "source": [
    "Now that we have the structure of the decision tree ready, we have to assign either a yes or no value to each 'Leaf' of the tree, since this is a classification problem."
   ]
  },
  {
   "cell_type": "markdown",
   "metadata": {},
   "source": [
    "For the first leaf, the majority of the entries are True so we can change that Leaf to the a True value. The second Leaf will become False, Third will be False and last will be True by the same logic."
   ]
  },
  {
   "cell_type": "markdown",
   "metadata": {},
   "source": [
    "Let us now implement it in the code"
   ]
  },
  {
   "cell_type": "code",
   "execution_count": 48,
   "metadata": {},
   "outputs": [],
   "source": [
    "def tree(row):\n",
    "    if row['Blocked Arteries'] == 1 :\n",
    "        if row['Chest_Pain'] == 1:\n",
    "            row['Heart Disease Pred'] = 1\n",
    "        else:\n",
    "            row['Heart Disease Pred'] = 0\n",
    "    else:\n",
    "        if row['Good Blood Circulation'] == 1:\n",
    "            row['Heart Disease Pred'] = 0\n",
    "        else:\n",
    "            row['Heart Disease Pred'] = 1\n",
    "    return row"
   ]
  },
  {
   "cell_type": "markdown",
   "metadata": {},
   "source": [
    "This above code will take every row from the data and predict whether that patient has heart disease or not.\n",
    "\n",
    "It follows a Decision Tree as shown below"
   ]
  },
  {
   "cell_type": "markdown",
   "metadata": {},
   "source": [
    "![SS5](./assets/SS5.png)"
   ]
  },
  {
   "cell_type": "markdown",
   "metadata": {},
   "source": [
    "Let's now load the test data and perform some evaluation on our predictions"
   ]
  },
  {
   "cell_type": "code",
   "execution_count": 52,
   "metadata": {},
   "outputs": [
    {
     "data": {
      "text/html": [
       "<div>\n",
       "<style scoped>\n",
       "    .dataframe tbody tr th:only-of-type {\n",
       "        vertical-align: middle;\n",
       "    }\n",
       "\n",
       "    .dataframe tbody tr th {\n",
       "        vertical-align: top;\n",
       "    }\n",
       "\n",
       "    .dataframe thead th {\n",
       "        text-align: right;\n",
       "    }\n",
       "</style>\n",
       "<table border=\"1\" class=\"dataframe\">\n",
       "  <thead>\n",
       "    <tr style=\"text-align: right;\">\n",
       "      <th></th>\n",
       "      <th>Blocked Arteries</th>\n",
       "      <th>Chest_Pain</th>\n",
       "      <th>Good Blood Circulation</th>\n",
       "      <th>Heart Disease</th>\n",
       "    </tr>\n",
       "  </thead>\n",
       "  <tbody>\n",
       "    <tr>\n",
       "      <th>0</th>\n",
       "      <td>0</td>\n",
       "      <td>0</td>\n",
       "      <td>1</td>\n",
       "      <td>0</td>\n",
       "    </tr>\n",
       "    <tr>\n",
       "      <th>1</th>\n",
       "      <td>1</td>\n",
       "      <td>1</td>\n",
       "      <td>0</td>\n",
       "      <td>0</td>\n",
       "    </tr>\n",
       "    <tr>\n",
       "      <th>2</th>\n",
       "      <td>1</td>\n",
       "      <td>0</td>\n",
       "      <td>0</td>\n",
       "      <td>0</td>\n",
       "    </tr>\n",
       "    <tr>\n",
       "      <th>3</th>\n",
       "      <td>0</td>\n",
       "      <td>1</td>\n",
       "      <td>0</td>\n",
       "      <td>1</td>\n",
       "    </tr>\n",
       "    <tr>\n",
       "      <th>4</th>\n",
       "      <td>0</td>\n",
       "      <td>0</td>\n",
       "      <td>1</td>\n",
       "      <td>0</td>\n",
       "    </tr>\n",
       "  </tbody>\n",
       "</table>\n",
       "</div>"
      ],
      "text/plain": [
       "   Blocked Arteries  Chest_Pain  Good Blood Circulation  Heart Disease\n",
       "0                 0           0                       1              0\n",
       "1                 1           1                       0              0\n",
       "2                 1           0                       0              0\n",
       "3                 0           1                       0              1\n",
       "4                 0           0                       1              0"
      ]
     },
     "execution_count": 52,
     "metadata": {},
     "output_type": "execute_result"
    }
   ],
   "source": [
    "test_data = pd.read_csv('test.csv')\n",
    "test_data.head()"
   ]
  },
  {
   "cell_type": "code",
   "execution_count": 53,
   "metadata": {},
   "outputs": [
    {
     "data": {
      "text/html": [
       "<div>\n",
       "<style scoped>\n",
       "    .dataframe tbody tr th:only-of-type {\n",
       "        vertical-align: middle;\n",
       "    }\n",
       "\n",
       "    .dataframe tbody tr th {\n",
       "        vertical-align: top;\n",
       "    }\n",
       "\n",
       "    .dataframe thead th {\n",
       "        text-align: right;\n",
       "    }\n",
       "</style>\n",
       "<table border=\"1\" class=\"dataframe\">\n",
       "  <thead>\n",
       "    <tr style=\"text-align: right;\">\n",
       "      <th></th>\n",
       "      <th>Blocked Arteries</th>\n",
       "      <th>Chest_Pain</th>\n",
       "      <th>Good Blood Circulation</th>\n",
       "      <th>Heart Disease</th>\n",
       "      <th>Heart Disease Pred</th>\n",
       "    </tr>\n",
       "  </thead>\n",
       "  <tbody>\n",
       "    <tr>\n",
       "      <th>0</th>\n",
       "      <td>0</td>\n",
       "      <td>0</td>\n",
       "      <td>1</td>\n",
       "      <td>0</td>\n",
       "      <td>0</td>\n",
       "    </tr>\n",
       "    <tr>\n",
       "      <th>1</th>\n",
       "      <td>1</td>\n",
       "      <td>1</td>\n",
       "      <td>0</td>\n",
       "      <td>0</td>\n",
       "      <td>1</td>\n",
       "    </tr>\n",
       "    <tr>\n",
       "      <th>2</th>\n",
       "      <td>1</td>\n",
       "      <td>0</td>\n",
       "      <td>0</td>\n",
       "      <td>0</td>\n",
       "      <td>0</td>\n",
       "    </tr>\n",
       "    <tr>\n",
       "      <th>3</th>\n",
       "      <td>0</td>\n",
       "      <td>1</td>\n",
       "      <td>0</td>\n",
       "      <td>1</td>\n",
       "      <td>1</td>\n",
       "    </tr>\n",
       "    <tr>\n",
       "      <th>4</th>\n",
       "      <td>0</td>\n",
       "      <td>0</td>\n",
       "      <td>1</td>\n",
       "      <td>0</td>\n",
       "      <td>0</td>\n",
       "    </tr>\n",
       "  </tbody>\n",
       "</table>\n",
       "</div>"
      ],
      "text/plain": [
       "   Blocked Arteries  Chest_Pain  Good Blood Circulation  Heart Disease  \\\n",
       "0                 0           0                       1              0   \n",
       "1                 1           1                       0              0   \n",
       "2                 1           0                       0              0   \n",
       "3                 0           1                       0              1   \n",
       "4                 0           0                       1              0   \n",
       "\n",
       "   Heart Disease Pred  \n",
       "0                   0  \n",
       "1                   1  \n",
       "2                   0  \n",
       "3                   1  \n",
       "4                   0  "
      ]
     },
     "execution_count": 53,
     "metadata": {},
     "output_type": "execute_result"
    }
   ],
   "source": [
    "test_data = test_data.apply(tree, axis = 1)\n",
    "test_data.head()"
   ]
  },
  {
   "cell_type": "code",
   "execution_count": 54,
   "metadata": {},
   "outputs": [
    {
     "name": "stdout",
     "output_type": "stream",
     "text": [
      "0.83\n"
     ]
    }
   ],
   "source": [
    "from sklearn.metrics import accuracy_score\n",
    "print(accuracy_score(test_data['Heart Disease'], test_data['Heart Disease Pred']))"
   ]
  },
  {
   "cell_type": "markdown",
   "metadata": {},
   "source": [
    "As you can see we have acheived 83% accuracy with such a simple tree. The accuracy will increase for sure as we increase the depth of the tree, as long as we don't start overfitting the training data."
   ]
  },
  {
   "cell_type": "markdown",
   "metadata": {},
   "source": [
    "In the next notebook we will be talking about Bagging and Boosting which are some of the algorithms that provide much better results. (Remember we talked about it in the starting of this tutorial?)"
   ]
  },
  {
   "cell_type": "code",
   "execution_count": null,
   "metadata": {},
   "outputs": [],
   "source": []
  }
 ],
 "metadata": {
  "kernelspec": {
   "display_name": "Python 3",
   "language": "python",
   "name": "python3"
  },
  "language_info": {
   "codemirror_mode": {
    "name": "ipython",
    "version": 3
   },
   "file_extension": ".py",
   "mimetype": "text/x-python",
   "name": "python",
   "nbconvert_exporter": "python",
   "pygments_lexer": "ipython3",
   "version": "3.6.9"
  }
 },
 "nbformat": 4,
 "nbformat_minor": 4
}
